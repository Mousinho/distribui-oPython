{
 "cells": [
  {
   "cell_type": "code",
   "execution_count": 8,
   "id": "c0ed8420-dbfd-4f22-8bef-e46939bd7fbc",
   "metadata": {},
   "outputs": [],
   "source": [
    "# T - Student é quando a amostra é menor que 30\n",
    "#Importação de função para fazer o teste\n",
    "from scipy.stats import t"
   ]
  },
  {
   "cell_type": "code",
   "execution_count": 4,
   "id": "347c5758-79f4-459d-9239-f5cab9a0d89a",
   "metadata": {},
   "outputs": [
    {
     "data": {
      "text/plain": [
       "0.9139983540240443"
      ]
     },
     "execution_count": 4,
     "metadata": {},
     "output_type": "execute_result"
    }
   ],
   "source": [
    "#Média do salário dos cientista de dados é de 75 por hora. Amostra de 9 funcionários desvio padrão = 10\n",
    "#Qual a probabilidade de selecionar um cientista de dados e o salario ser menor de 80 reais a hora\n",
    "t.cdf(1.5,8)"
   ]
  },
  {
   "cell_type": "code",
   "execution_count": 5,
   "id": "d75938dc-d0f2-405b-96de-80f0a3f8fd83",
   "metadata": {},
   "outputs": [
    {
     "data": {
      "text/plain": [
       "0.08600164597595565"
      ]
     },
     "execution_count": 5,
     "metadata": {},
     "output_type": "execute_result"
    }
   ],
   "source": [
    "#Qual a probabilidade de um salário ser maior que 80\n",
    "t.sf(1.5,8)"
   ]
  },
  {
   "cell_type": "code",
   "execution_count": 6,
   "id": "074ea75e-80d7-4842-8fa8-da8abd00aaac",
   "metadata": {},
   "outputs": [
    {
     "data": {
      "text/plain": [
       "0.9999999999999999"
      ]
     },
     "execution_count": 6,
     "metadata": {},
     "output_type": "execute_result"
    }
   ],
   "source": [
    "#Somátorio da execução dos 2 códigos acima (lado esquerdo + lado direito da distribuição)\n",
    "t.cdf(1.5,8) + t.sf(1.5,8)"
   ]
  },
  {
   "cell_type": "code",
   "execution_count": null,
   "id": "469d9f95-ed05-4102-a7b5-461e4d645ec7",
   "metadata": {},
   "outputs": [],
   "source": []
  }
 ],
 "metadata": {
  "kernelspec": {
   "display_name": "base",
   "language": "python",
   "name": "python3"
  },
  "language_info": {
   "codemirror_mode": {
    "name": "ipython",
    "version": 3
   },
   "file_extension": ".py",
   "mimetype": "text/x-python",
   "name": "python",
   "nbconvert_exporter": "python",
   "pygments_lexer": "ipython3",
   "version": "3.9.12"
  },
  "vscode": {
   "interpreter": {
    "hash": "0a1acf05b3b517a93984128269528796a22eb0823a2d315f0945e33405fe6edc"
   }
  }
 },
 "nbformat": 4,
 "nbformat_minor": 5
}
