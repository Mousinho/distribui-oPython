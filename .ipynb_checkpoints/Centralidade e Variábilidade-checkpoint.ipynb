{
 "cells": [
  {
   "cell_type": "code",
   "execution_count": 1,
   "id": "3c58e5a3-49a3-4a64-bd58-a08184e0cb2d",
   "metadata": {},
   "outputs": [],
   "source": [
    "import numpy as np\n",
    "from scipy import stats"
   ]
  },
  {
   "cell_type": "code",
   "execution_count": 9,
   "id": "ede0bcee-f904-4845-bbd8-06b860538f14",
   "metadata": {},
   "outputs": [
    {
     "data": {
      "text/plain": [
       "179911.11111111112"
      ]
     },
     "execution_count": 9,
     "metadata": {},
     "output_type": "execute_result"
    }
   ],
   "source": [
    "#Criando variável com os dados dos jogadores, visualização da média e mediana\n",
    "jogadores = [40000,18000,1200,250000,30000,140000,300000,40000,800000]\n",
    "np.mean(jogadores)"
   ]
  },
  {
   "cell_type": "code",
   "execution_count": 10,
   "id": "7bf9f4b8-5f79-4c16-899c-c3b75a4b0ad2",
   "metadata": {},
   "outputs": [
    {
     "data": {
      "text/plain": [
       "40000.0"
      ]
     },
     "execution_count": 10,
     "metadata": {},
     "output_type": "execute_result"
    }
   ],
   "source": [
    "np.median(jogadores)"
   ]
  },
  {
   "cell_type": "code",
   "execution_count": 11,
   "id": "24c72479-513e-40c4-b5b0-f20c79bf426c",
   "metadata": {},
   "outputs": [
    {
     "data": {
      "text/plain": [
       "array([  1200.,  30000.,  40000., 250000., 800000.])"
      ]
     },
     "execution_count": 11,
     "metadata": {},
     "output_type": "execute_result"
    }
   ],
   "source": [
    "#Criação da variável para geração dos quartis (0,25,50,75,100)\n",
    "quartis = np.quantile(jogadores,[0,0.25,0.5,0.75,1])\n",
    "quartis"
   ]
  },
  {
   "cell_type": "code",
   "execution_count": 12,
   "id": "c544fa49-2339-4ca0-b3e5-676bb7bc4312",
   "metadata": {},
   "outputs": [
    {
     "data": {
      "text/plain": [
       "256225.82053944352"
      ]
     },
     "execution_count": 12,
     "metadata": {},
     "output_type": "execute_result"
    }
   ],
   "source": [
    "#Visualização do desvio padrão\n",
    "np.std(jogadores, ddof=1)"
   ]
  },
  {
   "cell_type": "code",
   "execution_count": 13,
   "id": "c14d4877-9c4f-40f8-b326-89f0ad08be04",
   "metadata": {},
   "outputs": [
    {
     "data": {
      "text/plain": [
       "DescribeResult(nobs=9, minmax=(1200, 800000), mean=179911.11111111112, variance=65651671111.111115, skewness=1.7469253452102156, kurtosis=1.9286113172534343)"
      ]
     },
     "execution_count": 13,
     "metadata": {},
     "output_type": "execute_result"
    }
   ],
   "source": [
    "#Visualização mais detalhada de estatísticas usando biblioteca scipy\n",
    "stats.describe(jogadores)"
   ]
  },
  {
   "cell_type": "code",
   "execution_count": null,
   "id": "0fe46561-8af5-41d9-af46-0b8f64429eac",
   "metadata": {},
   "outputs": [],
   "source": []
  }
 ],
 "metadata": {
  "kernelspec": {
   "display_name": "Python 3 (ipykernel)",
   "language": "python",
   "name": "python3"
  },
  "language_info": {
   "codemirror_mode": {
    "name": "ipython",
    "version": 3
   },
   "file_extension": ".py",
   "mimetype": "text/x-python",
   "name": "python",
   "nbconvert_exporter": "python",
   "pygments_lexer": "ipython3",
   "version": "3.9.12"
  }
 },
 "nbformat": 4,
 "nbformat_minor": 5
}
