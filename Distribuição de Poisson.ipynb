{
 "cells": [
  {
   "cell_type": "code",
   "execution_count": 2,
   "id": "5e196854-6a70-49b6-ba64-cc34f3483747",
   "metadata": {},
   "outputs": [],
   "source": [
    "#Distribuição de Poisson ela mede a probabilidade da ocorrencia em um intervalo de tempo\n",
    "#Importanto a função\n",
    "from scipy.stats import poisson"
   ]
  },
  {
   "cell_type": "code",
   "execution_count": 3,
   "id": "670edb50-2e9e-4210-b178-f47f1af2e3dd",
   "metadata": {},
   "outputs": [],
   "source": [
    "#Média de acidentes de carro é 2 por dia"
   ]
  },
  {
   "cell_type": "code",
   "execution_count": 4,
   "id": "6268b758-f3d2-4b57-91b8-7b6b37798ad3",
   "metadata": {},
   "outputs": [
    {
     "data": {
      "text/plain": [
       "0.18044704431548356"
      ]
     },
     "execution_count": 4,
     "metadata": {},
     "output_type": "execute_result"
    }
   ],
   "source": [
    "#Qual a probabilidade de ocorrerem 3 acidentes em um dia\n",
    "poisson.pmf(3,2)"
   ]
  },
  {
   "cell_type": "code",
   "execution_count": 5,
   "id": "1d3a69e8-ed1c-4093-ba5e-ff986692fee8",
   "metadata": {},
   "outputs": [
    {
     "data": {
      "text/plain": [
       "0.857123460498547"
      ]
     },
     "execution_count": 5,
     "metadata": {},
     "output_type": "execute_result"
    }
   ],
   "source": [
    "#Qual a probabilidade de ocorrerem 3 ou menos acidentes em um dia\n",
    "poisson.cdf(3,2)"
   ]
  },
  {
   "cell_type": "code",
   "execution_count": 6,
   "id": "b315cdd8-56a6-4275-9fa5-4c0a07aed479",
   "metadata": {},
   "outputs": [
    {
     "data": {
      "text/plain": [
       "0.14287653950145296"
      ]
     },
     "execution_count": 6,
     "metadata": {},
     "output_type": "execute_result"
    }
   ],
   "source": [
    "#Qual a probabilidade de ocorrerem mais de 3 acidentes em um dia\n",
    "poisson.sf(3,2)"
   ]
  },
  {
   "cell_type": "code",
   "execution_count": null,
   "id": "030f9218-de8e-4710-9357-e6dfced73f75",
   "metadata": {},
   "outputs": [],
   "source": []
  }
 ],
 "metadata": {
  "kernelspec": {
   "display_name": "base",
   "language": "python",
   "name": "python3"
  },
  "language_info": {
   "codemirror_mode": {
    "name": "ipython",
    "version": 3
   },
   "file_extension": ".py",
   "mimetype": "text/x-python",
   "name": "python",
   "nbconvert_exporter": "python",
   "pygments_lexer": "ipython3",
   "version": "3.9.12"
  },
  "vscode": {
   "interpreter": {
    "hash": "0a1acf05b3b517a93984128269528796a22eb0823a2d315f0945e33405fe6edc"
   }
  }
 },
 "nbformat": 4,
 "nbformat_minor": 5
}
