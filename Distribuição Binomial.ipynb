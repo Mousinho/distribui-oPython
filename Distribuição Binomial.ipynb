{
 "cells": [
  {
   "cell_type": "code",
   "execution_count": 1,
   "id": "4678b16a-7c6c-418d-9022-ab2e65c98988",
   "metadata": {},
   "outputs": [],
   "source": [
    "#Distribuição binomial (Probabilidade discreta)\n",
    "from scipy.stats import binom"
   ]
  },
  {
   "cell_type": "code",
   "execution_count": 2,
   "id": "aa268702-e74e-4515-b7f8-2cc041f480f8",
   "metadata": {},
   "outputs": [
    {
     "data": {
      "text/plain": [
       "0.31249999999999983"
      ]
     },
     "execution_count": 2,
     "metadata": {},
     "output_type": "execute_result"
    }
   ],
   "source": [
    "#Jogar uma moeda 5x, qual a possibilidade de dar cara 3x\n",
    "#eventos, experimentos, probabilidades\n",
    "prob = binom.pmf(3,5,0.5)\n",
    "prob"
   ]
  },
  {
   "cell_type": "code",
   "execution_count": 3,
   "id": "279bed9c-3a55-4569-913c-f6ae1faa395e",
   "metadata": {},
   "outputs": [
    {
     "data": {
      "text/plain": [
       "1.0000000000000002"
      ]
     },
     "execution_count": 3,
     "metadata": {},
     "output_type": "execute_result"
    }
   ],
   "source": [
    "#Passar por 4 sinais de 4 tempos, qual a probabilidade de pegar sinal verde\n",
    "#nenhum, 1, 2, 3 ou 4x seguidas\n",
    "binom.pmf(0,4,0.25) + binom.pmf(1,4,0.25) + binom.pmf(2,4,0.25) + binom.pmf(3,4,0.25) + binom.pmf(4,4,0.25)"
   ]
  },
  {
   "cell_type": "code",
   "execution_count": 6,
   "id": "f5383dae-6179-4382-b8a1-441f51129e7e",
   "metadata": {},
   "outputs": [
    {
     "data": {
      "text/plain": [
       "0.0625"
      ]
     },
     "execution_count": 6,
     "metadata": {},
     "output_type": "execute_result"
    }
   ],
   "source": [
    "#Se for sinal de 2 tempos\n",
    "binom.pmf(4,4,0.5)"
   ]
  },
  {
   "cell_type": "code",
   "execution_count": 8,
   "id": "082d9ddd-80ac-43aa-a07a-8207a7d7b477",
   "metadata": {},
   "outputs": [
    {
     "data": {
      "text/plain": [
       "1.0"
      ]
     },
     "execution_count": 8,
     "metadata": {},
     "output_type": "execute_result"
    }
   ],
   "source": [
    "#Probabilidade acumulativa\n",
    "binom.cdf(4,4,0.25)"
   ]
  },
  {
   "cell_type": "code",
   "execution_count": 10,
   "id": "2f57d90e-3024-4630-aab1-540dd89ef4df",
   "metadata": {},
   "outputs": [
    {
     "data": {
      "text/plain": [
       "1.1471271514892587"
      ]
     },
     "execution_count": 10,
     "metadata": {},
     "output_type": "execute_result"
    }
   ],
   "source": [
    "#Concurso com 12 questões, qual a probabilidade de acertar 7 considerando que cada questão tem 4 opções\n",
    "binom.pmf(7,12,0.25) * 100"
   ]
  },
  {
   "cell_type": "code",
   "execution_count": 12,
   "id": "60f4050c-21ef-48cb-bd16-2f22cdfccedf",
   "metadata": {},
   "outputs": [
    {
     "data": {
      "text/plain": [
       "5.9604644775390625e-06"
      ]
     },
     "execution_count": 12,
     "metadata": {},
     "output_type": "execute_result"
    }
   ],
   "source": [
    "#Qual a probabilidade de acertar as 12\n",
    "binom.pmf(12,12,0.25) * 100"
   ]
  },
  {
   "cell_type": "code",
   "execution_count": null,
   "id": "d784fb9b-26fe-44ca-8a32-d310c889bad2",
   "metadata": {},
   "outputs": [],
   "source": []
  }
 ],
 "metadata": {
  "kernelspec": {
   "display_name": "base",
   "language": "python",
   "name": "python3"
  },
  "language_info": {
   "codemirror_mode": {
    "name": "ipython",
    "version": 3
   },
   "file_extension": ".py",
   "mimetype": "text/x-python",
   "name": "python",
   "nbconvert_exporter": "python",
   "pygments_lexer": "ipython3",
   "version": "3.9.12"
  },
  "vscode": {
   "interpreter": {
    "hash": "0a1acf05b3b517a93984128269528796a22eb0823a2d315f0945e33405fe6edc"
   }
  }
 },
 "nbformat": 4,
 "nbformat_minor": 5
}
