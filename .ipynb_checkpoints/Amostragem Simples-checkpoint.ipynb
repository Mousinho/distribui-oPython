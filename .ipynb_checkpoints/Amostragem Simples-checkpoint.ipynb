{
 "cells": [
  {
   "cell_type": "code",
   "execution_count": 9,
   "id": "6ae65f4b-151e-4749-8ea6-23395a318df5",
   "metadata": {},
   "outputs": [],
   "source": [
    "#Amostragem simples\n",
    "import pandas as pd\n",
    "import numpy as np"
   ]
  },
  {
   "cell_type": "code",
   "execution_count": 10,
   "id": "0e887416-dcc2-4838-9877-b41916ff4f36",
   "metadata": {},
   "outputs": [
    {
     "data": {
      "text/plain": [
       "(150, 5)"
      ]
     },
     "execution_count": 10,
     "metadata": {},
     "output_type": "execute_result"
    }
   ],
   "source": [
    "#Carregando base de dados e verificando quantas linhas e colunas\n",
    "base_Iris = pd.read_csv(\"iris.csv\")\n",
    "base_Iris.shape"
   ]
  },
  {
   "cell_type": "code",
   "execution_count": 12,
   "id": "b087bf42-ccd8-40f4-bb06-26c666e149a4",
   "metadata": {},
   "outputs": [
    {
     "data": {
      "text/plain": [
       "101"
      ]
     },
     "execution_count": 12,
     "metadata": {},
     "output_type": "execute_result"
    }
   ],
   "source": [
    "#Mudança da semente aleatória randômica para manter os resultados em várias execuções\n",
    "np.random.seed(2345)\n",
    "#150 amostras de 0 a 1, com reposição, probabilidade equivalentes\n",
    "amostra = np.random.choice(a = [0, 1], size = 150, replace = True, p = [0.7, 0.3])\n",
    "#Verificando o tamanho da amostra\n",
    "len(amostra)\n",
    "#Verificando tamanho da amostra para os valores iguais a 1 ou 0\n",
    "len(amostra[amostra == 1])\n",
    "len(amostra[amostra == 0])"
   ]
  },
  {
   "cell_type": "code",
   "execution_count": 7,
   "id": "f23010ca-35bd-426c-ab52-789ad41996ef",
   "metadata": {},
   "outputs": [
    {
     "data": {
      "text/plain": [
       "(101, 5)"
      ]
     },
     "execution_count": 7,
     "metadata": {},
     "output_type": "execute_result"
    }
   ],
   "source": [
    "base_final = base_Iris.loc[amostra == 0]\n",
    "base_final.shape"
   ]
  },
  {
   "cell_type": "code",
   "execution_count": 13,
   "id": "b763d2de-46db-4c96-88ec-8d00773be3ab",
   "metadata": {},
   "outputs": [
    {
     "data": {
      "text/plain": [
       "(49, 5)"
      ]
     },
     "execution_count": 13,
     "metadata": {},
     "output_type": "execute_result"
    }
   ],
   "source": [
    "base_final2 = base_Iris.loc[amostra == 1]\n",
    "base_final2.shape"
   ]
  },
  {
   "cell_type": "code",
   "execution_count": null,
   "id": "4be3dd98-12eb-4177-b829-635554ebafd7",
   "metadata": {},
   "outputs": [],
   "source": []
  }
 ],
 "metadata": {
  "kernelspec": {
   "display_name": "Python 3 (ipykernel)",
   "language": "python",
   "name": "python3"
  },
  "language_info": {
   "codemirror_mode": {
    "name": "ipython",
    "version": 3
   },
   "file_extension": ".py",
   "mimetype": "text/x-python",
   "name": "python",
   "nbconvert_exporter": "python",
   "pygments_lexer": "ipython3",
   "version": "3.9.12"
  }
 },
 "nbformat": 4,
 "nbformat_minor": 5
}
